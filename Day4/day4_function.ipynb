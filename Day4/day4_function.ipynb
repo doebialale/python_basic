{
 "cells": [
  {
   "cell_type": "code",
   "execution_count": null,
   "metadata": {},
   "outputs": [],
   "source": [
    "# solution\n",
    "\n",
    "while True:\n",
    "    try:\n",
    "        hours = float(input(\"Please enter your hours for this week: \"))\n",
    "        if hours < 0 or hours > 65:\n",
    "            raise ValueError()\n",
    "        print(hours)\n",
    "        break\n",
    "    except ValueError:\n",
    "        print(\"You did not enter a valide value for hours: Try again:\")\n",
    "\n",
    "while True:\n",
    "    try:\n",
    "        rate = float(input(\"Please enter your hourly rate: \"))\n",
    "        if rate < 7.50 or rate > 50:\n",
    "            raise ValueError()\n",
    "        print(rate)\n",
    "        break\n",
    "    except ValueError:\n",
    "        print(\"You did not enter a valide value for rate: Try again:\")\n",
    "\n",
    "if hours <= 40:\n",
    "    pay = hours * rate\n",
    "else:\n",
    "    overtime_rate = rate * 1.5\n",
    "    overtme_hours = hours - 40\n",
    "    pay = (40 * rate) + overtime_rate * overtme_hours\n",
    "\n",
    "\n",
    "\n"
   ]
  },
  {
   "cell_type": "markdown",
   "metadata": {},
   "source": [
    "## Functions\n",
    "* Functions write code that can be reused\n",
    "* There are two kinds of functions:\n",
    "    * Built-in functions\n",
    "        * Expample: `print()`, `len()`, `int()`, `float()`, `str()`\n",
    "    * User-defined functions\n",
    "        * Functions are defined using the `def` keyword\n",
    "        * When you define your function, treat the name like a reserved word (i.e. avoid using them as variable names)\n",
    "\n",
    "## Function Definition\n",
    "* In Python, a funtion is some reusable code that can be called to perform a specific task. and can take zero or more arguments.\n",
    "* The function definition is written using the `def` keyword.\n",
    "* We call or invoke a function by using the function name followed by parentheses. exmaple: `print()`\n",
    "* The arguments to the function are separated by commas.\n",
    "* A function can have zero or more arguments.\n",
    "* A fuction can return a value.\n"
   ]
  },
  {
   "cell_type": "code",
   "execution_count": 5,
   "metadata": {},
   "outputs": [],
   "source": [
    "def get_hours():\n",
    "    while True:\n",
    "        try:\n",
    "            hours = float(input(\"Please enter your hours for this week: \"))\n",
    "            if hours < 0 or hours > 65:\n",
    "                raise ValueError()\n",
    "            break\n",
    "        except ValueError:\n",
    "            print(\"You did not enter a valide value for hours: Try again:\")\n",
    "    return hours"
   ]
  },
  {
   "cell_type": "code",
   "execution_count": 6,
   "metadata": {},
   "outputs": [],
   "source": [
    "def get_rate():\n",
    "    while True:\n",
    "        try:\n",
    "            rate = float(input(\"Please enter your hourly rate: \"))\n",
    "            if rate < 7.50 or rate > 50:\n",
    "                raise ValueError()\n",
    "            break\n",
    "        except ValueError:\n",
    "            print(\"You did not enter a valide value for rate: Try again:\")\n",
    "    return rate"
   ]
  },
  {
   "cell_type": "code",
   "execution_count": 8,
   "metadata": {},
   "outputs": [],
   "source": [
    "def pay_calculator(hours, rate):\n",
    "    if hours <= 40:\n",
    "        pay = hours * rate\n",
    "    else:\n",
    "        overtime_rate = rate * 1.5\n",
    "        overtme_hours = hours - 40\n",
    "        pay = (40 * rate) + overtime_rate * overtme_hours\n",
    "    return pay"
   ]
  },
  {
   "cell_type": "code",
   "execution_count": 9,
   "metadata": {},
   "outputs": [
    {
     "name": "stdout",
     "output_type": "stream",
     "text": [
      "Your pay is: $200.0\n"
     ]
    }
   ],
   "source": [
    "hours = get_hours()\n",
    "rate = get_rate()\n",
    "pay = pay_calculator(hours, rate)\n",
    "print(\"Your pay is: \" + \"$\" + str(pay))"
   ]
  }
 ],
 "metadata": {
  "interpreter": {
   "hash": "20f8d5f7ba74cc5c2109982e8b28d4e186701d056fb5fc1ec240b02d19d47aaf"
  },
  "kernelspec": {
   "display_name": "Python 3.10.2 64-bit (windows store)",
   "language": "python",
   "name": "python3"
  },
  "language_info": {
   "codemirror_mode": {
    "name": "ipython",
    "version": 3
   },
   "file_extension": ".py",
   "mimetype": "text/x-python",
   "name": "python",
   "nbconvert_exporter": "python",
   "pygments_lexer": "ipython3",
   "version": "3.10.2"
  },
  "orig_nbformat": 4
 },
 "nbformat": 4,
 "nbformat_minor": 2
}
