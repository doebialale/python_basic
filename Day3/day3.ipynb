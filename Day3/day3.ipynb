{
 "cells": [
  {
   "cell_type": "markdown",
   "metadata": {},
   "source": [
    "## Exception Handling:\n",
    "* Exceptions are things that the program does not anticipate and that can cause the program to crash.:\n",
    "    * Example: asking for a number when the user inputs a string/letter.    \n",
    "* Exception handling is the process of responding to an exception or an unintended event that occurs in a program.\n",
    "* The exception is handled by the program and the program continues to run.\n",
    "\n",
    "* if the exception is not handled, the program stops and the exception is thrown.\n",
    "* we can use `try` and `except` to handle exceptions\n",
    "\n",
    "Note:\n",
    "* `try` and `except` are keywords.\n",
    "\n",
    "\n"
   ]
  },
  {
   "cell_type": "code",
   "execution_count": 4,
   "metadata": {},
   "outputs": [],
   "source": [
    "age = input(\"How old are you? \")\n",
    "try:\n",
    "    age = int(age)\n",
    "    if age >= 18:\n",
    "        print(\"You are old enough to vote!\")\n",
    "        print(\"Please put an X in the box.\")\n",
    "except:\n",
    "    print(\"An error occured!\")\n",
    "\n",
    "print(\"The code will continue.\")"
   ]
  },
  {
   "cell_type": "code",
   "execution_count": null,
   "metadata": {},
   "outputs": [
    {
     "name": "stdout",
     "output_type": "stream",
     "text": [
      "The code will continue.\n"
     ]
    }
   ],
   "source": [
    "age = input(\"How old are you? \")\n",
    "age = int(age)\n",
    "if age >= 18:\n",
    "    print(\"You are old enough to vote!\")\n",
    "    print(\"Please put an X in the box.\")\n",
    "print(\"The code will continue.\")"
   ]
  },
  {
   "cell_type": "code",
   "execution_count": null,
   "metadata": {},
   "outputs": [],
   "source": [
    "try:\n",
    "    age = input(\"How old are you? \")\n",
    "    age = int(age)\n",
    "    if age >= 18:\n",
    "        print(\"You are old enough to vote!\")\n",
    "        \n",
    "except:\n",
    "    print(\"Sothing went wrong\")\n",
    "\n",
    "print(\"The code will continue.\")"
   ]
  },
  {
   "cell_type": "markdown",
   "metadata": {},
   "source": [
    "## Excersise:\n",
    "* Write a program that asks the user for a number.\n",
    "* If the user enters a number, the program should multiple the number by 2 and print the result.\n",
    "Please save the multle in a variable called `result` and print the result."
   ]
  },
  {
   "cell_type": "code",
   "execution_count": null,
   "metadata": {},
   "outputs": [],
   "source": [
    "#Solution 1\n",
    "number = input(\"Please enter a number\")\n",
    "try:\n",
    "    number = int(number)\n",
    "    result = number * 2\n",
    "    print(result)\n",
    "except:\n",
    "    print(\"Error: You did not enter a number\")"
   ]
  },
  {
   "cell_type": "code",
   "execution_count": null,
   "metadata": {},
   "outputs": [],
   "source": [
    "#Solution 2\n",
    "try:\n",
    "    number = int(input(\"Please enter a number\"))\n",
    "    result = number * 2\n",
    "    print(result)\n",
    "except:\n",
    "    print(\"Error: You did not enter a number\")\n"
   ]
  },
  {
   "cell_type": "code",
   "execution_count": null,
   "metadata": {},
   "outputs": [],
   "source": [
    "try:\n",
    "    print(age)\n",
    "    age = int(input(\"How old are you? \"))\n",
    "    \n",
    "    if(age > 120):\n",
    "       print(\"Age is too high for this program\")\n",
    "       raise ValueError(\"error\")\n",
    "    elif age < 0:\n",
    "       print(\"You did not enter a positive number for age\")\n",
    "    print(age)\n",
    "except Exception as error:\n",
    "    print(error)\n",
    "\n",
    "\n"
   ]
  },
  {
   "cell_type": "code",
   "execution_count": null,
   "metadata": {},
   "outputs": [],
   "source": [
    "try:\n",
    "    heigth = float(input(\"How tall are you? \"))\n",
    "    print(heigth)\n",
    "except:\n",
    "    print(\"Unexpected error\")"
   ]
  },
  {
   "cell_type": "markdown",
   "metadata": {},
   "source": [
    "## Loops:\n",
    "* Loops are used to repeat or iterate over a block of code.\n",
    "* Loops have three parts:\n",
    "    * The first part is the condition that is checked before the loop runs.\n",
    "    * Loops have iteration variables that change each time through the loop.\n",
    "    * Often, these variables go through a series of values.\n"
   ]
  },
  {
   "cell_type": "markdown",
   "metadata": {},
   "source": [
    "## Types of Loops:\n",
    "* Infinite Loops (while):\n",
    "    * Loops that never end.\n",
    "    * Loops that never end are called infinite loops.\n",
    "* Finite Loops (for):\n",
    "    * Loops that end after a certain number of iterations.\n",
    "    * Loops that end after a certain number of iterations are called finite loops.\n",
    "\n",
    "* While loop\n",
    "    * while condition:\n",
    "        * statements\n",
    "Note:\n",
    "* `while` is a keyword."
   ]
  },
  {
   "cell_type": "code",
   "execution_count": null,
   "metadata": {},
   "outputs": [],
   "source": [
    "y = 2\n",
    "while y < 100:\n",
    "    print(y)\n",
    "    if y == 10:\n",
    "        print(\"Yes we got 10\")\n",
    "        continue # continue to the next iteration of the loop and skip the rest of the code in this iteration\n",
    "    elif y == 12:\n",
    "        print(\"we got 12\")\n",
    "        break # this will break out of the loop\n",
    "    y = y + 1\n",
    "    \n"
   ]
  },
  {
   "cell_type": "code",
   "execution_count": null,
   "metadata": {},
   "outputs": [],
   "source": [
    "# While loop\n",
    "x = 2\n",
    "while x <= 10:\n",
    "    print(x)\n",
    "    if x == 5:\n",
    "        break  # break out of the loop\n",
    "    # if x == 3:\n",
    "    #     print(\"x is 3\")\n",
    "    #     continue # skip the rest of the code in this iteration and continue with the next iteration\n",
    "    print(x)\n",
    "    x = x + 1 # same as x += 1\n",
    "  "
   ]
  },
  {
   "cell_type": "code",
   "execution_count": null,
   "metadata": {},
   "outputs": [],
   "source": [
    "number = 20\n",
    "while number > 0:\n",
    "    print(number)\n",
    "    number = number - 1"
   ]
  },
  {
   "cell_type": "markdown",
   "metadata": {},
   "source": [
    "## For loop:\n",
    "* for loop is used to iterate over a sequence of items.\n",
    "* for variable in sequence of items or list:\n",
    "    * statements"
   ]
  },
  {
   "cell_type": "code",
   "execution_count": null,
   "metadata": {},
   "outputs": [],
   "source": [
    "#list of names\n",
    "names = [\"John\", \"Bob\", \"Mary\", \"Sally\", \"Joe\"]\n",
    "# print(names) # this will print the list\n",
    "# to print the items in the list we use a for loop\n",
    "print(names[0]) # this will print the first item in the list\n",
    "# for name in names:\n",
    "#     print(name)\n",
    "\n",
    "# for name in names:\n",
    "#     print(name)\n"
   ]
  },
  {
   "cell_type": "code",
   "execution_count": null,
   "metadata": {},
   "outputs": [],
   "source": [
    "numbers = [1, 2, 3, 4, 5, 6, 7, 8, 9, 10]\n",
    "for x in numbers:\n",
    "   print(x)"
   ]
  },
  {
   "cell_type": "code",
   "execution_count": null,
   "metadata": {},
   "outputs": [],
   "source": [
    "# a list of numbers from 1 to 10\n",
    "lists = [1, 2, 3, 4, 5, 6, 7, 8, 9, 10]\n",
    "for number in lists:\n",
    "    print(number)"
   ]
  },
  {
   "cell_type": "code",
   "execution_count": null,
   "metadata": {},
   "outputs": [],
   "source": [
    "hours = [24, 26, 45, 33, 30, 40,45]\n",
    "names = [\"John\", \"John\", \"Bob\", \"Mary\", \"Sally\", \"Sam\", \"Joe\"]\n",
    "rate = 15\n",
    "index = 0\n",
    "\n",
    "for hour in hours:\n",
    "    try:\n",
    "        pay = hour * rate\n",
    "        # print(\"hour: \" + str(hour) )\n",
    "        print(names[index] + \" Worked \" + str(pay))\n",
    "        index = index + 1\n",
    "        # print(\"index: \" + str(index) + \" The Index has increased by 1\" )\n",
    "    except Exception as error:\n",
    "        print(\"An error occured: \")\n",
    "    \n",
    "\n"
   ]
  },
  {
   "cell_type": "markdown",
   "metadata": {},
   "source": [
    "for tempVar in YourList:\n",
    "    statements"
   ]
  },
  {
   "cell_type": "code",
   "execution_count": null,
   "metadata": {},
   "outputs": [],
   "source": [
    "while True:\n",
    "    try:\n",
    "        number = int(input(\"Enter a number: \"))\n",
    "        print(number)\n",
    "        break\n",
    "    except ValueError:\n",
    "        print(\"That was not a number\")"
   ]
  },
  {
   "cell_type": "code",
   "execution_count": null,
   "metadata": {},
   "outputs": [],
   "source": [
    "hours = input(\"Enter hours worked this week: \") # We are asking the user for input the hours worked  and storing it in the variable hours\n",
    "rate = input(\"Enter your pay rate: \")\n",
    "name = input(\"please enter your name: \")\n",
    "hours = float(hours)\n",
    "rate = float(rate)\n",
    "overtime_rate = rate*1.5\n",
    "\n",
    "if hours <= 40: # if the user worked less than 40hrs \n",
    "    pay = rate * hours\n",
    "elif hours > 40:\n",
    "    overtime_hours = hours - 40\n",
    "    overtime_pay = overtime_hours * overtime_rate\n",
    "    pay = (40 * rate) + overtime_pay\n",
    "print(name + \" week's pay is: \" + \"$\" + str(pay))"
   ]
  },
  {
   "cell_type": "code",
   "execution_count": null,
   "metadata": {},
   "outputs": [],
   "source": [
    "while True:\n",
    "    try:\n",
    "        age = int(input(\"How old are you? \"))\n",
    "        print(age)\n",
    "        break\n",
    "    except ValueError as e:\n",
    "        print(\"That was not a number\" + str(e))"
   ]
  },
  {
   "cell_type": "markdown",
   "metadata": {},
   "source": [
    "## Excersise:/Home work:\n",
    "* Write a program that asks the user for a the hours and rate of pay.\n",
    "* Calculate the gross pay and print it to the screen.\n",
    "* Use the following formula to calculate the gross pay:\n",
    "    * Gross pay = hours * rate\n",
    "if the user enters an invalid value, print a message to the user and ask them to try again.\n",
    "if the hours entered are less than 0 or greater than 65, print an error message ask them to try again.\n",
    "if they worked more than 40 hours, calculate the overtime pay using the bellow formula:\n",
    "    * Overtime:\n",
    "        * Overtime pay = (hours - 40) * (rate * 1.5)\n",
    "        * Gross pay = overtime pay  + 40 * rate\n",
    "\n",
    "Extra Pointers:\n",
    "* `input` is a function that asks the user for input.\n",
    "* Please make sure to use `float` to convert the input for rate and hours.\n",
    "* Use `try` and `except` to handle the exceptions.\n",
    "* Use `while` and `break` to exit the loop.\n",
    "\n",
    "\n",
    "## Extra\n",
    "Make this a function called \"calculate_pay\" that takes two parameters (hours and rate) or parameter."
   ]
  },
  {
   "cell_type": "code",
   "execution_count": null,
   "metadata": {},
   "outputs": [],
   "source": [
    "while True:\n",
    "\n",
    "    name    = input(\"Please enter your name...\")\n",
    "    hours   = input(\"How many hours did you work?\")\n",
    "    rate    = input(\"What is your pay rate?\")\n",
    "\n",
    "\n",
    "\n",
    "    try:\n",
    "        # hours >=65 and hours != 0\n",
    "        hours = float(hours)\n",
    "        rate = float(rate)\n",
    "        gross_pay = (hours * rate)\n",
    "        if rate <= 0:\n",
    "            print (\"Invalid Rate!\")\n",
    "        elif hours >= 65 or hours == 0:\n",
    "            print (\"Invalid Hours! Please see Manager Terrence Diko\")\n",
    "        elif hours <= 60 and hours > 40:\n",
    "            overtime = (hours - 40) * (rate * 1.5)\n",
    "            gross_pay = overtime + (40 * rate)\n",
    "            print (name + \"'s salary is $\" + str(gross_pay))\n",
    "            break\n",
    "        elif hours <= 40 and hours > 0:\n",
    "            print (name + \"'s salary is $\" + str(gross_pay))\n",
    "            break\n",
    "        else:\n",
    "            print(\"Please check your values and try again!\") \n",
    "    except:\n",
    "        print(\"Please check your values!\")"
   ]
  }
 ],
 "metadata": {
  "interpreter": {
   "hash": "854bdde8274e107395231dd6718fd565d5e83edd780eeccab4e7084d2cfd2f17"
  },
  "kernelspec": {
   "display_name": "Python 3.7.0 32-bit",
   "language": "python",
   "name": "python3"
  },
  "language_info": {
   "codemirror_mode": {
    "name": "ipython",
    "version": 3
   },
   "file_extension": ".py",
   "mimetype": "text/x-python",
   "name": "python",
   "nbconvert_exporter": "python",
   "pygments_lexer": "ipython3",
   "version": "3.10.2"
  },
  "orig_nbformat": 4
 },
 "nbformat": 4,
 "nbformat_minor": 2
}
